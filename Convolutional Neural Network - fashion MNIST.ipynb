{
 "cells": [
  {
   "cell_type": "markdown",
   "metadata": {},
   "source": [
    "Blog site: https://medium.com/@siyao_sui/convolutional-neural-networks-with-fashion-mnist-dataset-8dc95433cbd0"
   ]
  },
  {
   "cell_type": "code",
   "execution_count": 69,
   "metadata": {
    "collapsed": true
   },
   "outputs": [],
   "source": [
    "from mnist_reader import load_mnist\n",
    "from keras.layers import Dense, MaxPooling2D, Conv2D, Dropout\n",
    "from keras.layers import Flatten, InputLayer, Lambda\n",
    "from keras.layers.normalization import BatchNormalization\n",
    "from keras.models import Sequential\n",
    "from keras.optimizers import Adam\n",
    "from keras import optimizers\n",
    "from keras.utils import np_utils\n",
    "from keras.initializers import Constant\n",
    "import keras\n",
    "from keras import models, layers\n",
    "import numpy as np"
   ]
  },
  {
   "cell_type": "code",
   "execution_count": 40,
   "metadata": {
    "collapsed": true
   },
   "outputs": [],
   "source": [
    "X_train, y_train = load_mnist('data/fashion', kind='train')\n",
    "X_test, y_test = load_mnist('data/fashion', kind='t10k')"
   ]
  },
  {
   "cell_type": "code",
   "execution_count": null,
   "metadata": {
    "collapsed": true
   },
   "outputs": [],
   "source": [
    "y_test.shape"
   ]
  },
  {
   "cell_type": "code",
   "execution_count": 41,
   "metadata": {
    "collapsed": true
   },
   "outputs": [],
   "source": [
    "X_train = (X_train.reshape([-1, 28, 28, 1])) / 255\n",
    "X_test = (X_test.reshape([-1, 28, 28, 1])) / 255\n",
    "\n",
    "y_train = keras.utils.np_utils.to_categorical(y_train, 10)\n",
    "y_test = keras.utils.np_utils.to_categorical(y_test, 10)"
   ]
  },
  {
   "cell_type": "code",
   "execution_count": 42,
   "metadata": {},
   "outputs": [
    {
     "name": "stdout",
     "output_type": "stream",
     "text": [
      "(60000, 28, 28, 1)\n",
      "(10000, 28, 28, 1)\n",
      "(60000, 10)\n",
      "(10000, 10)\n"
     ]
    }
   ],
   "source": [
    "print(X_train.shape)\n",
    "print(X_test.shape)\n",
    "print(y_train.shape)\n",
    "print(y_test.shape)"
   ]
  },
  {
   "cell_type": "code",
   "execution_count": 32,
   "metadata": {
    "collapsed": true
   },
   "outputs": [],
   "source": [
    "input_shape = (28, 28, 1)"
   ]
  },
  {
   "cell_type": "markdown",
   "metadata": {},
   "source": [
    "### CNN with 1 layer"
   ]
  },
  {
   "cell_type": "code",
   "execution_count": 43,
   "metadata": {
    "collapsed": true
   },
   "outputs": [],
   "source": [
    "model_1 = models.Sequential()\n",
    "model_1.add(layers.Conv2D(32, (3, 3), activation='relu', input_shape=(28, 28, 1)))\n",
    "model_1.add(layers.MaxPooling2D((2, 2)))\n",
    "model_1.add(layers.Dropout(0.5))\n",
    "model_1.add(layers.Flatten())\n",
    "model_1.add(layers.Dense(128, activation='relu'))\n",
    "model_1.add(layers.Dense(10, activation='softmax'))"
   ]
  },
  {
   "cell_type": "code",
   "execution_count": 44,
   "metadata": {},
   "outputs": [
    {
     "name": "stdout",
     "output_type": "stream",
     "text": [
      "_________________________________________________________________\n",
      "Layer (type)                 Output Shape              Param #   \n",
      "=================================================================\n",
      "conv2d_5 (Conv2D)            (None, 26, 26, 32)        320       \n",
      "_________________________________________________________________\n",
      "max_pooling2d_5 (MaxPooling2 (None, 13, 13, 32)        0         \n",
      "_________________________________________________________________\n",
      "dropout_6 (Dropout)          (None, 13, 13, 32)        0         \n",
      "_________________________________________________________________\n",
      "flatten_4 (Flatten)          (None, 5408)              0         \n",
      "_________________________________________________________________\n",
      "dense_7 (Dense)              (None, 128)               692352    \n",
      "_________________________________________________________________\n",
      "dense_8 (Dense)              (None, 10)                1290      \n",
      "=================================================================\n",
      "Total params: 693,962\n",
      "Trainable params: 693,962\n",
      "Non-trainable params: 0\n",
      "_________________________________________________________________\n"
     ]
    }
   ],
   "source": [
    "model_1.summary()"
   ]
  },
  {
   "cell_type": "code",
   "execution_count": 46,
   "metadata": {},
   "outputs": [
    {
     "name": "stdout",
     "output_type": "stream",
     "text": [
      "Train on 60000 samples, validate on 10000 samples\n",
      "Epoch 1/10\n",
      "60000/60000 [==============================] - 28s 460us/step - loss: 0.4441 - acc: 0.8411 - val_loss: 0.3500 - val_acc: 0.8716\n",
      "Epoch 2/10\n",
      "60000/60000 [==============================] - 28s 461us/step - loss: 0.3172 - acc: 0.8843 - val_loss: 0.3207 - val_acc: 0.8818\n",
      "Epoch 3/10\n",
      "60000/60000 [==============================] - 28s 473us/step - loss: 0.2818 - acc: 0.8973 - val_loss: 0.2680 - val_acc: 0.9025\n",
      "Epoch 4/10\n",
      "60000/60000 [==============================] - 28s 465us/step - loss: 0.2545 - acc: 0.9051 - val_loss: 0.2595 - val_acc: 0.9031\n",
      "Epoch 5/10\n",
      "60000/60000 [==============================] - 28s 464us/step - loss: 0.2367 - acc: 0.9119 - val_loss: 0.2504 - val_acc: 0.9082\n",
      "Epoch 6/10\n",
      "60000/60000 [==============================] - 28s 467us/step - loss: 0.2195 - acc: 0.9180 - val_loss: 0.2477 - val_acc: 0.9080\n",
      "Epoch 7/10\n",
      "60000/60000 [==============================] - 28s 470us/step - loss: 0.2064 - acc: 0.9220 - val_loss: 0.2433 - val_acc: 0.9126\n",
      "Epoch 8/10\n",
      "60000/60000 [==============================] - 30s 503us/step - loss: 0.1938 - acc: 0.9282 - val_loss: 0.2399 - val_acc: 0.9143\n",
      "Epoch 9/10\n",
      "60000/60000 [==============================] - 29s 481us/step - loss: 0.1808 - acc: 0.9321 - val_loss: 0.2408 - val_acc: 0.9163\n",
      "Epoch 10/10\n",
      "60000/60000 [==============================] - 29s 488us/step - loss: 0.1721 - acc: 0.9355 - val_loss: 0.2424 - val_acc: 0.9136\n"
     ]
    }
   ],
   "source": [
    "model_1.compile(optimizer='adam',\n",
    "              loss='categorical_crossentropy',\n",
    "              metrics=['accuracy'])\n",
    "result_1 = model_1.fit(X_train, y_train, \n",
    "            epochs=10, \n",
    "            batch_size=64, \n",
    "            verbose = 1, validation_data = (X_test, y_test))"
   ]
  },
  {
   "cell_type": "code",
   "execution_count": 51,
   "metadata": {},
   "outputs": [
    {
     "name": "stdout",
     "output_type": "stream",
     "text": [
      "Test loss: 0.242430664873\n",
      "Test accuracy: 0.9136\n"
     ]
    }
   ],
   "source": [
    "score_1 = model_1.evaluate(X_test, y_test, verbose=0)\n",
    "print('Test loss:', score_1[0])\n",
    "print('Test accuracy:', score_1[1])"
   ]
  },
  {
   "cell_type": "code",
   "execution_count": 49,
   "metadata": {},
   "outputs": [
    {
     "data": {
      "image/png": "[encoded data removed]",
      "text/plain": [
       "<matplotlib.figure.Figure at 0x181e8c7550>"
      ]
     },
     "metadata": {},
     "output_type": "display_data"
    }
   ],
   "source": [
    "import matplotlib.pyplot as plt\n",
    "def show_history(result_1):\n",
    "    plt.plot(result_1.history['acc'])\n",
    "    plt.plot(result_1.history['val_acc'])\n",
    "    plt.ylabel('accuracy')\n",
    "    plt.xlabel('epoch')\n",
    "    plt.legend(['train_accuracy', 'test_accuracy'], loc='best')\n",
    "    plt.show()\n",
    "\n",
    "show_history(result_1)"
   ]
  },
  {
   "cell_type": "markdown",
   "metadata": {},
   "source": [
    "### CNN with 2 layers"
   ]
  },
  {
   "cell_type": "code",
   "execution_count": 52,
   "metadata": {
    "collapsed": true
   },
   "outputs": [],
   "source": [
    "model_2 = models.Sequential()\n",
    "\n",
    "model_2.add(layers.Conv2D(32, (3, 3), activation='relu', input_shape=(28, 28, 1)))\n",
    "model_2.add(layers.MaxPooling2D((2, 2)))\n",
    "model_2.add(layers.Dropout(0.5))\n",
    "\n",
    "model_2.add(layers.Conv2D(64, (3, 3), activation='relu'))\n",
    "model_2.add(layers.MaxPooling2D((2, 2)))\n",
    "model_2.add(layers.Dropout(0.5))\n",
    "\n",
    "\n",
    "model_2.add(layers.Flatten())\n",
    "model_2.add(layers.Dense(128, activation='relu'))\n",
    "model_2.add(layers.Dropout(0.5))\n",
    "model_2.add(layers.Dense(10, activation='softmax'))"
   ]
  },
  {
   "cell_type": "code",
   "execution_count": null,
   "metadata": {
    "collapsed": true
   },
   "outputs": [],
   "source": [
    "model_2.summary()"
   ]
  },
  {
   "cell_type": "code",
   "execution_count": 53,
   "metadata": {},
   "outputs": [
    {
     "name": "stdout",
     "output_type": "stream",
     "text": [
      "Train on 60000 samples, validate on 10000 samples\n",
      "Epoch 1/10\n",
      "60000/60000 [==============================] - 53s 885us/step - loss: 0.7318 - acc: 0.7291 - val_loss: 0.4704 - val_acc: 0.8270\n",
      "Epoch 2/10\n",
      "60000/60000 [==============================] - 51s 849us/step - loss: 0.5077 - acc: 0.8140 - val_loss: 0.3929 - val_acc: 0.8584\n",
      "Epoch 3/10\n",
      "60000/60000 [==============================] - 52s 868us/step - loss: 0.4491 - acc: 0.8353 - val_loss: 0.3777 - val_acc: 0.8668\n",
      "Epoch 4/10\n",
      "60000/60000 [==============================] - 53s 880us/step - loss: 0.4153 - acc: 0.8482 - val_loss: 0.3255 - val_acc: 0.8836\n",
      "Epoch 5/10\n",
      "60000/60000 [==============================] - 51s 853us/step - loss: 0.3924 - acc: 0.8572 - val_loss: 0.3190 - val_acc: 0.8865\n",
      "Epoch 6/10\n",
      "60000/60000 [==============================] - 52s 865us/step - loss: 0.3777 - acc: 0.8620 - val_loss: 0.3071 - val_acc: 0.8882\n",
      "Epoch 7/10\n",
      "60000/60000 [==============================] - 54s 897us/step - loss: 0.3664 - acc: 0.8657 - val_loss: 0.3016 - val_acc: 0.8888\n",
      "Epoch 8/10\n",
      "60000/60000 [==============================] - 51s 853us/step - loss: 0.3547 - acc: 0.8693 - val_loss: 0.3196 - val_acc: 0.8793\n",
      "Epoch 9/10\n",
      "60000/60000 [==============================] - 55s 924us/step - loss: 0.3540 - acc: 0.8696 - val_loss: 0.2883 - val_acc: 0.8921\n",
      "Epoch 10/10\n",
      "60000/60000 [==============================] - 55s 914us/step - loss: 0.3437 - acc: 0.8740 - val_loss: 0.2801 - val_acc: 0.8968\n"
     ]
    }
   ],
   "source": [
    "model_2.compile(optimizer='adam',\n",
    "              loss='categorical_crossentropy',\n",
    "              metrics=['accuracy'])\n",
    "result_2 = model_2.fit(X_train, y_train, \n",
    "            epochs=10, \n",
    "            batch_size=64, \n",
    "            verbose = 1, validation_data = (X_test, y_test))"
   ]
  },
  {
   "cell_type": "code",
   "execution_count": 58,
   "metadata": {},
   "outputs": [
    {
     "name": "stdout",
     "output_type": "stream",
     "text": [
      "Test loss: 0.280061510968\n",
      "Test accuracy: 0.8968\n"
     ]
    }
   ],
   "source": [
    "score_2 = model_2.evaluate(X_test, y_test, verbose=0)\n",
    "print('Test loss:', score_2[0])\n",
    "print('Test accuracy:', score_2[1])"
   ]
  },
  {
   "cell_type": "code",
   "execution_count": 59,
   "metadata": {},
   "outputs": [
    {
     "data": {
      "image/png": "[encoded data removed]",
      "text/plain": [
       "<matplotlib.figure.Figure at 0x181ed02710>"
      ]
     },
     "metadata": {},
     "output_type": "display_data"
    }
   ],
   "source": [
    "import matplotlib.pyplot as plt\n",
    "def show_history(result_2):\n",
    "    plt.plot(result_2.history['acc'])\n",
    "    plt.plot(result_2.history['val_acc'])\n",
    "    plt.ylabel('accuracy')\n",
    "    plt.xlabel('epoch')\n",
    "    plt.legend(['train_accuracy', 'test_accuracy'], loc='best')\n",
    "    plt.show()\n",
    "\n",
    "show_history(result_2)"
   ]
  },
  {
   "cell_type": "markdown",
   "metadata": {},
   "source": [
    "### CNN with 4 layers and Batch Normalization"
   ]
  },
  {
   "cell_type": "code",
   "execution_count": 72,
   "metadata": {
    "collapsed": true
   },
   "outputs": [],
   "source": [
    "def normalize(data):\n",
    "    return (data - X_train.mean().astype(np.float32)) / (X_train.std().astype(np.float32))"
   ]
  },
  {
   "cell_type": "code",
   "execution_count": 73,
   "metadata": {
    "collapsed": true
   },
   "outputs": [],
   "source": [
    "model_4 = Sequential([\n",
    "    Lambda(normalize, input_shape=(28,28, 1)),\n",
    "    Conv2D(32, kernel_size=(3, 3), activation='relu', input_shape=input_shape),\n",
    "    BatchNormalization(),\n",
    "\n",
    "    Conv2D(32, kernel_size=(3, 3), activation='relu'),\n",
    "    BatchNormalization(),\n",
    "    Dropout(0.25),\n",
    "\n",
    "    Conv2D(64, kernel_size=(3, 3), activation='relu'),\n",
    "    MaxPooling2D(pool_size=(2, 2)),\n",
    "    Dropout(0.25),\n",
    "\n",
    "\n",
    "    Conv2D(128, kernel_size=(3, 3), activation='relu'),\n",
    "    BatchNormalization(),\n",
    "    Dropout(0.25),\n",
    "\n",
    "    Flatten(),\n",
    "\n",
    "    Dense(512, activation='relu'),\n",
    "    BatchNormalization(),\n",
    "    Dropout(0.5),\n",
    "    Dense(128, activation='relu'),\n",
    "    BatchNormalization(),\n",
    "    Dropout(0.5),\n",
    "    Dense(10, activation='softmax')\n",
    "])"
   ]
  },
  {
   "cell_type": "code",
   "execution_count": 75,
   "metadata": {},
   "outputs": [
    {
     "name": "stdout",
     "output_type": "stream",
     "text": [
      "Train on 60000 samples, validate on 10000 samples\n",
      "Epoch 1/10\n",
      "60000/60000 [==============================] - 481s 8ms/step - loss: 0.5467 - acc: 0.8080 - val_loss: 0.3330 - val_acc: 0.8802\n",
      "Epoch 2/10\n",
      "60000/60000 [==============================] - 481s 8ms/step - loss: 0.3419 - acc: 0.8789 - val_loss: 0.2842 - val_acc: 0.8980\n",
      "Epoch 3/10\n",
      "60000/60000 [==============================] - 478s 8ms/step - loss: 0.2916 - acc: 0.8969 - val_loss: 0.2668 - val_acc: 0.9035\n",
      "Epoch 4/10\n",
      "60000/60000 [==============================] - 469s 8ms/step - loss: 0.2667 - acc: 0.9055 - val_loss: 0.2539 - val_acc: 0.9076\n",
      "Epoch 5/10\n",
      "60000/60000 [==============================] - 480s 8ms/step - loss: 0.2437 - acc: 0.9129 - val_loss: 0.2264 - val_acc: 0.9183\n",
      "Epoch 6/10\n",
      "60000/60000 [==============================] - 474s 8ms/step - loss: 0.2301 - acc: 0.9177 - val_loss: 0.2258 - val_acc: 0.9191\n",
      "Epoch 7/10\n",
      "60000/60000 [==============================] - 548s 9ms/step - loss: 0.2147 - acc: 0.9227 - val_loss: 0.2702 - val_acc: 0.9036\n",
      "Epoch 8/10\n",
      "60000/60000 [==============================] - 651s 11ms/step - loss: 0.1968 - acc: 0.9283 - val_loss: 0.2342 - val_acc: 0.9157\n",
      "Epoch 9/10\n",
      "60000/60000 [==============================] - 684s 11ms/step - loss: 0.1881 - acc: 0.9322 - val_loss: 0.2165 - val_acc: 0.9244\n",
      "Epoch 10/10\n",
      "60000/60000 [==============================] - 683s 11ms/step - loss: 0.1726 - acc: 0.9379 - val_loss: 0.2005 - val_acc: 0.9298\n"
     ]
    }
   ],
   "source": [
    "model_4.compile(optimizer='adam',\n",
    "              loss='categorical_crossentropy',\n",
    "              metrics=['accuracy'])\n",
    "result_4 = model_4.fit(X_train, y_train, \n",
    "            epochs=10, \n",
    "            batch_size=64, \n",
    "            verbose = 1, validation_data = (X_test, y_test))"
   ]
  },
  {
   "cell_type": "code",
   "execution_count": 76,
   "metadata": {},
   "outputs": [
    {
     "name": "stdout",
     "output_type": "stream",
     "text": [
      "Test loss: 0.200547082913\n",
      "Test accuracy: 0.9298\n"
     ]
    }
   ],
   "source": [
    "score_4 = model_4.evaluate(X_test, y_test, verbose=0)\n",
    "print('Test loss:', score_4[0])\n",
    "print('Test accuracy:', score_4[1])"
   ]
  },
  {
   "cell_type": "code",
   "execution_count": 77,
   "metadata": {},
   "outputs": [
    {
     "data": {
      "image/png": "[encoded data removed]",
      "text/plain": [
       "<matplotlib.figure.Figure at 0x1823e55e48>"
      ]
     },
     "metadata": {},
     "output_type": "display_data"
    }
   ],
   "source": [
    "def show_history(result_4):\n",
    "    plt.plot(result_4.history['acc'])\n",
    "    plt.plot(result_4.history['val_acc'])\n",
    "    plt.ylabel('accuracy')\n",
    "    plt.xlabel('epoch')\n",
    "    plt.legend(['train_accuracy', 'test_accuracy'], loc='best')\n",
    "    plt.show()\n",
    "\n",
    "show_history(result_4)"
   ]
  },
  {
   "cell_type": "code",
   "execution_count": null,
   "metadata": {
    "collapsed": true
   },
   "outputs": [],
   "source": []
  }
 ],
 "metadata": {
  "kernelspec": {
   "display_name": "Python 3",
   "language": "python",
   "name": "python3"
  },
  "language_info": {
   "codemirror_mode": {
    "name": "ipython",
    "version": 3
   },
   "file_extension": ".py",
   "mimetype": "text/x-python",
   "name": "python",
   "nbconvert_exporter": "python",
   "pygments_lexer": "ipython3",
   "version": "3.6.3"
  }
 },
 "nbformat": 4,
 "nbformat_minor": 2
}
